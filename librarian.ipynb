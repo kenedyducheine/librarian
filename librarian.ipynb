{
  "nbformat": 4,
  "nbformat_minor": 0,
  "metadata": {
    "colab": {
      "provenance": [],
      "mount_file_id": "1oMJfuovadycAikAnBTjzFAIMJhGTo8Hy",
      "authorship_tag": "ABX9TyP9H2Fms6JuSnej3WsOTvfh",
      "include_colab_link": true
    },
    "kernelspec": {
      "name": "python3",
      "display_name": "Python 3"
    },
    "language_info": {
      "name": "python"
    }
  },
  "cells": [
    {
      "cell_type": "markdown",
      "metadata": {
        "id": "view-in-github",
        "colab_type": "text"
      },
      "source": [
        "<a href=\"https://colab.research.google.com/github/traderjoevitamins/librarian/blob/main/librarian.ipynb\" target=\"_parent\"><img src=\"https://colab.research.google.com/assets/colab-badge.svg\" alt=\"Open In Colab\"/></a>"
      ]
    },
    {
      "cell_type": "code",
      "execution_count": 1,
      "metadata": {
        "id": "rl0mNE0wYFwc"
      },
      "outputs": [],
      "source": [
        "try:\n",
        "  import colab\n",
        "  !pip install --upgrade pip\n",
        "except:\n",
        "  pass"
      ]
    },
    {
      "cell_type": "code",
      "source": [
        "!pip install --upgrade 'tensorflow_data_validation[visualization]<2'\n",
        "!pip install -U scikit-learn\n",
        "!pip install tensorflow-text\n",
        "!pip install bert-tensorflow\n",
        "!pip install bert-for-tf2\n",
        "!pip install transformers\n"
      ],
      "metadata": {
        "id": "qAGzDF7LZu3s"
      },
      "execution_count": null,
      "outputs": []
    },
    {
      "cell_type": "code",
      "source": [
        "!pip install torch"
      ],
      "metadata": {
        "colab": {
          "base_uri": "https://localhost:8080/"
        },
        "id": "dyOQW14Fp2rw",
        "outputId": "7739c7c7-10f9-4360-9b3a-11adb6a9ad01"
      },
      "execution_count": 23,
      "outputs": [
        {
          "output_type": "stream",
          "name": "stdout",
          "text": [
            "Requirement already satisfied: torch in /usr/local/lib/python3.10/dist-packages (2.0.1+cu118)\n",
            "Requirement already satisfied: filelock in /usr/local/lib/python3.10/dist-packages (from torch) (3.12.2)\n",
            "Requirement already satisfied: typing-extensions in /usr/local/lib/python3.10/dist-packages (from torch) (4.5.0)\n",
            "Requirement already satisfied: sympy in /usr/local/lib/python3.10/dist-packages (from torch) (1.12)\n",
            "Requirement already satisfied: networkx in /usr/local/lib/python3.10/dist-packages (from torch) (3.1)\n",
            "Requirement already satisfied: jinja2 in /usr/local/lib/python3.10/dist-packages (from torch) (3.1.2)\n",
            "Requirement already satisfied: triton==2.0.0 in /usr/local/lib/python3.10/dist-packages (from torch) (2.0.0)\n",
            "Requirement already satisfied: cmake in /usr/local/lib/python3.10/dist-packages (from triton==2.0.0->torch) (3.27.4.1)\n",
            "Requirement already satisfied: lit in /usr/local/lib/python3.10/dist-packages (from triton==2.0.0->torch) (16.0.6)\n",
            "Requirement already satisfied: MarkupSafe>=2.0 in /usr/local/lib/python3.10/dist-packages (from jinja2->torch) (2.1.3)\n",
            "Requirement already satisfied: mpmath>=0.19 in /usr/local/lib/python3.10/dist-packages (from sympy->torch) (1.3.0)\n"
          ]
        }
      ]
    },
    {
      "cell_type": "code",
      "source": [
        "import tensorflow as tf\n",
        "import tensorflow_text as text\n",
        "import tensorflow_data_validation as tfdv\n",
        "import pandas as pd\n",
        "import nltk\n",
        "import tensorflow_hub as hub\n",
        "import nltk\n",
        "import sklearn\n",
        "import bert\n",
        "import math\n",
        "import torch\n",
        "\n",
        "from transformers import BertTokenizer, BertModel\n",
        "from nltk.tokenize import word_tokenize\n",
        "from sklearn.model_selection import train_test_split\n",
        "from tensorflow.keras.models import Model\n",
        "from bert import tokenization\n",
        "from tokenizers import Tokenizer\n",
        "from tokenizers.models import BPE\n",
        "from transformers import AutoTokenizer\n",
        "\n",
        "#from bert.tokenization import FullTokenizer\n",
        "#FullTokenizer = bert.bert_tokenization.FullTokenizer\n",
        "\n",
        "\n",
        "nltk.download('punkt')\n",
        "nltk.download('punkt')\n",
        "print('TF version:', tf.__version__)\n",
        "print('NLKT version:', nltk.__version__)\n",
        "print('Hub version:', hub.__version__)\n",
        "print('TFDV version:', tfdv.version.__version__)\n"
      ],
      "metadata": {
        "id": "Wr-R5lDAReIO",
        "colab": {
          "base_uri": "https://localhost:8080/"
        },
        "outputId": "cd90e3ac-38a1-41b9-9eaf-1c0ef583b55c"
      },
      "execution_count": 24,
      "outputs": [
        {
          "output_type": "stream",
          "name": "stdout",
          "text": [
            "TF version: 2.13.0\n",
            "NLKT version: 3.8.1\n",
            "Hub version: 0.14.0\n",
            "TFDV version: 1.14.0\n"
          ]
        },
        {
          "output_type": "stream",
          "name": "stderr",
          "text": [
            "[nltk_data] Downloading package punkt to /root/nltk_data...\n",
            "[nltk_data]   Package punkt is already up-to-date!\n",
            "[nltk_data] Downloading package punkt to /root/nltk_data...\n",
            "[nltk_data]   Package punkt is already up-to-date!\n"
          ]
        }
      ]
    },
    {
      "cell_type": "code",
      "source": [
        "goodreads = pd.read_csv('/content/finalgoodreads.csv')\n",
        "goodreads['enjoyed'] = 1\n",
        "goodreads = goodreads[['Title', 'Author', 'ISBN13', 'synopsis', 'enjoyed']]\n",
        "nyt1 = pd.read_csv('/content/nyt1.csv')\n",
        "nyt2 = pd.read_csv('/content/nyt2.csv')\n",
        "goodreads_synopsis = goodreads['synopsis']\n",
        "nyt = pd.concat([nyt1, nyt2], axis = 0)\n",
        "nyt_synopsis = nyt['synopsis']\n",
        "\n",
        "goodreads_synopsis = goodreads_synopsis.str.replace('<p class=\"null1\">','').replace('</p>\\n<p>', '')\n",
        "goodreads_synopsis = goodreads_synopsis.str.replace('<p>', '').replace('<', '').replace('>', '')\n",
        "goodreads_synopsis = goodreads_synopsis.str.replace('<BR>', '').replace('</p><h3>', '').replace('>', '')\n",
        "goodreads_synopsis = str(goodreads_synopsis)\n",
        "\n",
        "\n",
        "nyt_synopsis = nyt_synopsis.str.replace('<p class=\"null1\">','').replace('</p>\\n<p>', '')\n",
        "nyt_synopsis = nyt_synopsis.str.replace('<p>', '').replace('<', '').replace('>', '')\n",
        "nyt_synopsis = nyt_synopsis.str.replace('<BR>', '').replace('</p><h3>', '').replace('>', '')\n",
        "nyt_synopsis = str(nyt_synopsis)\n",
        "\n"
      ],
      "metadata": {
        "id": "hKxUHMwePzhI"
      },
      "execution_count": 35,
      "outputs": []
    },
    {
      "cell_type": "code",
      "source": [
        "#tokenizer = AutoTokenizer.from_pretrained('bert-base-cased')\n",
        "tokenizer = BertTokenizer.from_pretrained('bert-base-uncased')\n",
        "model = BertModel.from_pretrained('bert-base-uncased',\n",
        "                                  output_hidden_states = True) # Making the model return all hidden-states.\n",
        "model.eval()\n"
      ],
      "metadata": {
        "id": "-Kxa-eFXk-Fw"
      },
      "execution_count": 20,
      "outputs": []
    },
    {
      "cell_type": "code",
      "source": [
        "gtokenized_text = []\n",
        "gsegments_ids = []\n",
        "gtokens_tensor = []\n",
        "gsegments_tensors = []"
      ],
      "metadata": {
        "id": "jkpdYdWrpG9G"
      },
      "execution_count": 31,
      "outputs": []
    },
    {
      "cell_type": "code",
      "source": [
        "for i, syno in enumerate(goodreads_synopsis):\n",
        " gtokenized_text.append(tokenizer.encode(syno, add_special_tokens=True))\n",
        " gsegments_ids.append([1] * len(tokenized_text[i]))\n",
        " gtokens_tensor.append(torch.tensor([tokenized_text[i]]))\n",
        " gsegments_tensors.append(torch.tensor([segments_ids[i]]))"
      ],
      "metadata": {
        "id": "-V6NAoOMpb__"
      },
      "execution_count": 32,
      "outputs": []
    },
    {
      "cell_type": "code",
      "source": [
        "outputs = []\n",
        "hidden_states = []\n",
        "with torch.no_grad():\n",
        " for i in range(len(gtokens_tensor)):\n",
        "  outputs.append(model(gtokens_tensor[i], gsegments_tensors[i]))\n",
        " # we set `output_hidden_states = True`, the third item will be the\n",
        " # hidden states from all layers. See the documentation for more details:\n",
        " # https://huggingface.co/transformers/model_doc/bert.html#bertmodel\n",
        " hidden_states.append(outputs[i][2])\n"
      ],
      "metadata": {
        "id": "H2WqAXj_tCB8"
      },
      "execution_count": 45,
      "outputs": []
    },
    {
      "cell_type": "code",
      "source": [],
      "metadata": {
        "colab": {
          "base_uri": "https://localhost:8080/",
          "height": 232
        },
        "id": "3jEVGTcCqdeB",
        "outputId": "c8d842fb-b77f-416f-d9c9-3e53794c5262"
      },
      "execution_count": 52,
      "outputs": [
        {
          "output_type": "error",
          "ename": "AttributeError",
          "evalue": "ignored",
          "traceback": [
            "\u001b[0;31m---------------------------------------------------------------------------\u001b[0m",
            "\u001b[0;31mAttributeError\u001b[0m                            Traceback (most recent call last)",
            "\u001b[0;32m<ipython-input-52-455ef3cba6ea>\u001b[0m in \u001b[0;36m<cell line: 1>\u001b[0;34m()\u001b[0m\n\u001b[0;32m----> 1\u001b[0;31m \u001b[0mmynewlist\u001b[0m \u001b[0;34m=\u001b[0m \u001b[0;34m[\u001b[0m\u001b[0ms\u001b[0m \u001b[0;32mfor\u001b[0m \u001b[0ms\u001b[0m \u001b[0;32min\u001b[0m \u001b[0moutputs\u001b[0m \u001b[0;32mif\u001b[0m \u001b[0ms\u001b[0m\u001b[0;34m.\u001b[0m\u001b[0misdigit\u001b[0m\u001b[0;34m(\u001b[0m\u001b[0;34m)\u001b[0m\u001b[0;34m]\u001b[0m\u001b[0;34m\u001b[0m\u001b[0;34m\u001b[0m\u001b[0m\n\u001b[0m",
            "\u001b[0;32m<ipython-input-52-455ef3cba6ea>\u001b[0m in \u001b[0;36m<listcomp>\u001b[0;34m(.0)\u001b[0m\n\u001b[0;32m----> 1\u001b[0;31m \u001b[0mmynewlist\u001b[0m \u001b[0;34m=\u001b[0m \u001b[0;34m[\u001b[0m\u001b[0ms\u001b[0m \u001b[0;32mfor\u001b[0m \u001b[0ms\u001b[0m \u001b[0;32min\u001b[0m \u001b[0moutputs\u001b[0m \u001b[0;32mif\u001b[0m \u001b[0ms\u001b[0m\u001b[0;34m.\u001b[0m\u001b[0misdigit\u001b[0m\u001b[0;34m(\u001b[0m\u001b[0;34m)\u001b[0m\u001b[0;34m]\u001b[0m\u001b[0;34m\u001b[0m\u001b[0;34m\u001b[0m\u001b[0m\n\u001b[0m",
            "\u001b[0;31mAttributeError\u001b[0m: 'BaseModelOutputWithPoolingAndCrossAttentions' object has no attribute 'isdigit'"
          ]
        }
      ]
    },
    {
      "cell_type": "code",
      "source": [],
      "metadata": {
        "id": "tPj5_zFw9ysl"
      },
      "execution_count": 9,
      "outputs": []
    },
    {
      "cell_type": "code",
      "source": [
        "max_seq_length = len(nyt_synopsis)  # Your choice here.\n",
        "input_word_ids = tf.keras.layers.Input(shape=(max_seq_length,), dtype=tf.int32,\n",
        "                                       name=\"input_word_ids\")\n",
        "input_mask = tf.keras.layers.Input(shape=(max_seq_length,), dtype=tf.int32,\n",
        "                                   name=\"input_mask\")\n",
        "segment_ids = tf.keras.layers.Input(shape=(max_seq_length,), dtype=tf.int32,\n",
        "                                    name=\"segment_ids\")\n",
        "bert_layer = hub.KerasLayer(\"https://tfhub.dev/tensorflow/bert_en_uncased_L-12_H-768_A-12/1\",\n",
        "                            trainable=True)\n",
        "pooled_output, sequence_output = bert_layer([input_word_ids, input_mask, segment_ids])\n",
        "\n",
        "model = Model(inputs=[input_word_ids, input_mask, segment_ids], outputs=[pooled_output, sequence_output])\n",
        "\n",
        "def get_masks(tokens, max_seq_length):\n",
        "    \"\"\"Mask for padding\"\"\"\n",
        "    if len(tokens)>max_seq_length:\n",
        "        raise IndexError(\"Token length more than max seq length!\")\n",
        "    return [1]*len(tokens) + [0] * (max_seq_length - len(tokens))\n",
        "\n",
        "\n",
        "def get_segments(tokens, max_seq_length):\n",
        "    \"\"\"Segments: 0 for the first sequence, 1 for the second\"\"\"\n",
        "    if len(tokens)>max_seq_length:\n",
        "        raise IndexError(\"Token length more than max seq length!\")\n",
        "    segments = []\n",
        "    current_segment_id = 0\n",
        "    for token in tokens:\n",
        "        segments.append(current_segment_id)\n",
        "        if token == \"[SEP]\":\n",
        "            current_segment_id = 1\n",
        "    return segments + [0] * (max_seq_length - len(tokens))\n",
        "\n",
        "\n",
        "def get_ids(tokens, tokenizer, max_seq_length):\n",
        "    \"\"\"Token ids from Tokenizer vocab\"\"\"\n",
        "    token_ids = tokenizer.convert_tokens_to_ids(tokens)\n",
        "    input_ids = token_ids + [0] * (max_seq_length-len(token_ids))\n",
        "    return input_ids\n",
        "\n",
        "gtokens = tokenizer.tokenize(goodreads_synopsis)\n",
        "ntokens = tokenizer.tokenize(nyt_synopsis)\n",
        "\n",
        "gtokens = [\"[CLS]\"] + gtokens + [\"[SEP]\"]\n",
        "ntokens = [\"[CLS]\"] + ntokens + [\"[SEP]\"]\n",
        "\n",
        "ginput_ids = get_ids(gtokens, tokenizer, max_seq_length)\n",
        "ninput_ids = get_ids(ntokens, tokenizer, max_seq_length)\n",
        "\n",
        "ginput_masks = get_masks(gtokens, max_seq_length)\n",
        "ninput_masks = get_masks(ntokens, max_seq_length)\n",
        "\n",
        "ginput_segments = get_segments(gtokens, max_seq_length)\n",
        "ninput_segments = get_segments(ntokens, max_seq_length)\n",
        "\n",
        "pool_embs, all_embs = model.predict([[ginput_ids],[ginput_masks],[ginput_segments]])\n",
        "#pool_embs, all_embs = model.predict([[ginput_ids],[ginput_masks],[ginput_segments]])\n",
        "\n"
      ],
      "metadata": {
        "id": "0r9OsoRBa0E3"
      },
      "execution_count": 10,
      "outputs": []
    }
  ]
}