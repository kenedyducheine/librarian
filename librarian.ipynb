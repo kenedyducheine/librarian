{
  "nbformat": 4,
  "nbformat_minor": 0,
  "metadata": {
    "colab": {
      "provenance": [],
      "mount_file_id": "1oMJfuovadycAikAnBTjzFAIMJhGTo8Hy",
      "authorship_tag": "ABX9TyNZkXwtzmFbWNGx5Mjw/gF4",
      "include_colab_link": true
    },
    "kernelspec": {
      "name": "python3",
      "display_name": "Python 3"
    },
    "language_info": {
      "name": "python"
    }
  },
  "cells": [
    {
      "cell_type": "markdown",
      "metadata": {
        "id": "view-in-github",
        "colab_type": "text"
      },
      "source": [
        "<a href=\"https://colab.research.google.com/github/traderjoevitamins/librarian/blob/main/librarian.ipynb\" target=\"_parent\"><img src=\"https://colab.research.google.com/assets/colab-badge.svg\" alt=\"Open In Colab\"/></a>"
      ]
    },
    {
      "cell_type": "code",
      "execution_count": null,
      "metadata": {
        "id": "rl0mNE0wYFwc"
      },
      "outputs": [],
      "source": [
        "try:\n",
        "  import colab\n",
        "  !pip install --upgrade pip\n",
        "except:\n",
        "  pass"
      ]
    },
    {
      "cell_type": "code",
      "source": [
        "!pip install --upgrade 'tensorflow_data_validation[visualization]<2'\n",
        "!pip install -U scikit-learn\n",
        "!pip install tensorflow-text\n",
        "!pip install bert-tensorflow"
      ],
      "metadata": {
        "id": "qAGzDF7LZu3s"
      },
      "execution_count": null,
      "outputs": []
    },
    {
      "cell_type": "code",
      "source": [
        "import tensorflow as tf\n",
        "import tensorflow_text as text\n",
        "import tensorflow_data_validation as tfdv\n",
        "import pandas as pd\n",
        "import nltk\n",
        "import tensorflow_hub as hub\n",
        "import nltk\n",
        "import sklearn\n",
        "import bert\n",
        "import math\n",
        "\n",
        "from nltk.tokenize import word_tokenize\n",
        "from sklearn.model_selection import train_test_split\n",
        "from tensorflow.keras.models import Model\n",
        "from bert.tokenization import FullTokenizer\n",
        "\n",
        "\n",
        "nltk.download('punkt')\n",
        "nltk.download('punkt')\n",
        "print('TF version:', tf.__version__)\n",
        "print('NLKT version:', nltk.__version__)\n",
        "print('Hub version:', hub.__version__)\n",
        "print('TFDV version:', tfdv.version.__version__)\n"
      ],
      "metadata": {
        "id": "Wr-R5lDAReIO",
        "colab": {
          "base_uri": "https://localhost:8080/"
        },
        "outputId": "9e5064db-1d79-4abc-a215-12acd28196e6"
      },
      "execution_count": 41,
      "outputs": [
        {
          "output_type": "stream",
          "name": "stdout",
          "text": [
            "TF version: 2.13.0\n",
            "NLKT version: 3.8.1\n",
            "Hub version: 0.14.0\n",
            "TFDV version: 1.14.0\n"
          ]
        },
        {
          "output_type": "stream",
          "name": "stderr",
          "text": [
            "[nltk_data] Downloading package punkt to /root/nltk_data...\n",
            "[nltk_data]   Package punkt is already up-to-date!\n",
            "[nltk_data] Downloading package punkt to /root/nltk_data...\n",
            "[nltk_data]   Package punkt is already up-to-date!\n"
          ]
        }
      ]
    },
    {
      "cell_type": "code",
      "source": [
        "goodreads = pd.read_csv('/content/finalgoodreads.csv')\n",
        "goodreads['enjoyed'] = 1\n",
        "goodreads = goodreads[['Title', 'Author', 'ISBN13', 'synopsis', 'enjoyed']]\n",
        "nyt = pd.read_csv('/content/nyt1.csv')\n",
        "goodreads_synopsis = goodreads['synopsis']\n",
        "nyt_synopsis = nyt['synopsis']"
      ],
      "metadata": {
        "id": "hKxUHMwePzhI"
      },
      "execution_count": 44,
      "outputs": []
    },
    {
      "cell_type": "code",
      "source": [
        "goodreads_synopsis = goodreads_synopsis.str.replace('<p class=\"null1\">','').replace('</p>\\n<p>', '')\n",
        "goodreads_synopsis = goodreads_synopsis.str.replace('<p>', '').replace('<', '').replace('>', '')\n",
        "goodreads_synopsis = goodreads_synopsis.str.replace('<BR>', '').replace('</p><h3>', '').replace('>', '')\n",
        "goodreads_synopsis = str(goodreads_synopsis)\n",
        "\n",
        "\n",
        "nyt_synopsis = nyt_synopsis.str.replace('<p class=\"null1\">','').replace('</p>\\n<p>', '')\n",
        "nyt_synopsis = nyt_synopsis.str.replace('<p>', '').replace('<', '').replace('>', '')\n",
        "nyt_synopsis = nyt_synopsis.str.replace('<BR>', '').replace('</p><h3>', '').replace('>', '')\n",
        "nyt_synopsis = str(nyt_synopsis)\n",
        "\n",
        "goodreads_tokens = word_tokenize(goodreads_synopsis)\n",
        "nyt_tokens = word_tokenize(nyt_synopsis)\n",
        "\n",
        "\n"
      ],
      "metadata": {
        "id": "eQ43sVHSdFL_"
      },
      "execution_count": 45,
      "outputs": []
    },
    {
      "cell_type": "code",
      "source": [
        "max_seq_length = 128  # Your choice here.\n",
        "input_word_ids = tf.keras.layers.Input(shape=(max_seq_length,), dtype=tf.int32,\n",
        "                                       name=\"input_word_ids\")\n",
        "input_mask = tf.keras.layers.Input(shape=(max_seq_length,), dtype=tf.int32,\n",
        "                                   name=\"input_mask\")\n",
        "segment_ids = tf.keras.layers.Input(shape=(max_seq_length,), dtype=tf.int32,\n",
        "                                    name=\"segment_ids\")\n",
        "bert_layer = hub.KerasLayer(\"https://tfhub.dev/tensorflow/bert_en_uncased_L-12_H-768_A-12/1\",\n",
        "                            trainable=True)\n",
        "pooled_output, sequence_output = bert_layer([input_word_ids, input_mask, segment_ids])\n",
        "\n",
        "model = Model(inputs=[input_word_ids, input_mask, segment_ids], outputs=[pooled_output, sequence_output])"
      ],
      "metadata": {
        "id": "tPj5_zFw9ysl"
      },
      "execution_count": 46,
      "outputs": []
    },
    {
      "cell_type": "code",
      "source": [
        "def get_masks(tokens, max_seq_length):\n",
        "    \"\"\"Mask for padding\"\"\"\n",
        "    if len(tokens)>max_seq_length:\n",
        "        raise IndexError(\"Token length more than max seq length!\")\n",
        "    return [1]*len(tokens) + [0] * (max_seq_length - len(tokens))\n",
        "\n",
        "\n",
        "def get_segments(tokens, max_seq_length):\n",
        "    \"\"\"Segments: 0 for the first sequence, 1 for the second\"\"\"\n",
        "    if len(tokens)>max_seq_length:\n",
        "        raise IndexError(\"Token length more than max seq length!\")\n",
        "    segments = []\n",
        "    current_segment_id = 0\n",
        "    for token in tokens:\n",
        "        segments.append(current_segment_id)\n",
        "        if token == \"[SEP]\":\n",
        "            current_segment_id = 1\n",
        "    return segments + [0] * (max_seq_length - len(tokens))\n",
        "\n",
        "\n",
        "def get_ids(tokens, tokenizer, max_seq_length):\n",
        "    \"\"\"Token ids from Tokenizer vocab\"\"\"\n",
        "    token_ids = tokenizer.convert_tokens_to_ids(tokens)\n",
        "    input_ids = token_ids + [0] * (max_seq_length-len(token_ids))\n",
        "    return input_ids"
      ],
      "metadata": {
        "id": "0r9OsoRBa0E3"
      },
      "execution_count": 47,
      "outputs": []
    }
  ]
}