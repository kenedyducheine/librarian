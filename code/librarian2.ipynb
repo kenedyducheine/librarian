{
  "cells": [
    {
      "cell_type": "markdown",
      "metadata": {
        "id": "view-in-github",
        "colab_type": "text"
      },
      "source": [
        "<a href=\"https://colab.research.google.com/github/traderjoevitamins/librarian/blob/main/librarian2.ipynb\" target=\"_parent\"><img src=\"https://colab.research.google.com/assets/colab-badge.svg\" alt=\"Open In Colab\"/></a>"
      ]
    },
    {
      "cell_type": "code",
      "execution_count": null,
      "metadata": {
        "id": "mWUChlYus_Lw"
      },
      "outputs": [],
      "source": [
        "!pip install tensorflow_hub\n",
        "!pip install tensorflow_text\n",
        "#!pip install tensorflow_decision_forests\n",
        "\n",
        "##import tensorflow_hub as hub\n",
        "##import tensorflow_text as text\n",
        "import tensorflow as tf\n",
        "\n",
        "import os\n",
        "import numpy as np\n",
        "import pandas as pd\n",
        "import math\n"
      ]
    },
    {
      "cell_type": "code",
      "execution_count": 3,
      "metadata": {
        "id": "aYxxYRs7scVd"
      },
      "outputs": [],
      "source": [
        "encoder_url = 'https://tfhub.dev/tensorflow/bert_en_uncased_L-12_H-768_A-12/4'\n",
        "preprocess_url = 'https://tfhub.dev/tensorflow/bert_en_uncased_preprocess/3'\n",
        "nyt = pd.read_csv('/content/nyt(3)_embedded_1k_reviews.csv')\n",
        "gr = pd.read_csv('/content/goodreads_embedded_1k_reviews.csv')\n"
      ]
    },
    {
      "cell_type": "code",
      "execution_count": 4,
      "metadata": {
        "id": "MwVWBQmFwgnL"
      },
      "outputs": [],
      "source": [
        "#renaming the openai embeddings\n",
        "copy = gr['embedding']\n",
        "gr['openai_embed'] = gr['embedding']\n",
        "gr = gr[['ISBN13', 'synopsis', 'enjoyed', 'openai_embed']]\n",
        "nyt['openai_embed'] = nyt['embedding']\n",
        "nyt = nyt[['titleleft', 'isbn13left', 'synopsis', 'openai_embed']]"
      ]
    },
    {
      "cell_type": "code",
      "execution_count": 5,
      "metadata": {
        "id": "Wvq2a7kAslVE"
      },
      "outputs": [],
      "source": [
        "bert_preprocess_model = hub.KerasLayer(preprocess_url)\n",
        "bert_model = hub.KerasLayer(encoder_url)\n",
        "\n",
        "class embed:\n",
        "    def preprocess(self, readerdf, suggestiondf):\n",
        "      reader_processed = bert_preprocess_model(readerdf['synopsis'])\n",
        "      sugg_processed = bert_preprocess_model(suggestiondf['synopsis'])\n",
        "      return reader_processed, sugg_processed\n",
        "\n",
        "    def encode(self, reader, suggested):\n",
        "      reader_emb = bert_model(reader)\n",
        "      sugg_emb = bert_model(suggested)\n",
        "      return reader_emb, sugg_emb\n"
      ]
    },
    {
      "cell_type": "markdown",
      "metadata": {
        "id": "Qvta6hIqy2PI"
      },
      "source": [
        "The shape for gr will be 82 by 128 because we have 82 entries. same goes for the number of entries in nyt at the time of viewing. 128 is the max of sentence. Each array corrosponds to a sentence.\n",
        "\n",
        "input mask notes\n",
        "- CLS token in the begining of the sentence SEP token in the end of the sentence\n",
        "\n",
        "input type ids\n",
        "- all 0's but this is normal because 0 represents context and 1 represents questions\n",
        "\n",
        "input word ids\n",
        "- CLS = 101\n",
        "- SEP = 102\n",
        "\n",
        "gr_bert_preprocess.keys() \\\n",
        "nyt_bert_preprocess.keys()\n",
        "\n"
      ]
    },
    {
      "cell_type": "code",
      "execution_count": 6,
      "metadata": {
        "id": "WfGEep7mBuAh"
      },
      "outputs": [],
      "source": [
        "embed_instanance = embed()\n",
        "reader_processed, suggested_processed = embed_instanance.preprocess(gr, nyt)\n",
        "reader_embed, sugg_embed = embed_instanance.encode(reader_processed, suggested_processed)\n"
      ]
    },
    {
      "cell_type": "markdown",
      "metadata": {
        "id": "r8gj6kcf66-R"
      },
      "source": [
        "embeddings /\n",
        "encoder outputs\n",
        "- len of 12 because model is small\n",
        "- output of each indvidual encoder\n",
        "- last encoder output is literally the sequence output\n",
        "\n",
        "sequence output\n",
        "- first number = the number of sentences\n",
        "- second number = 128\n",
        "- third number = 728 size vector for each word\n",
        "\n",
        "pooled output\n",
        "- embedding for entire sentence\n",
        "\n",
        "default\n",
        "-"
      ]
    },
    {
      "cell_type": "code",
      "execution_count": 7,
      "metadata": {
        "id": "ByZbkKRVne8w"
      },
      "outputs": [],
      "source": [
        "def addtodf(reader, suggested):\n",
        "  reader['bert_pooled'] = [np.array(i).tolist() for i in reader_embed['pooled_output']]\n",
        "  #numpy.array(i).tolist()\n",
        "  suggested['bert_pooled'] = [i.numpy() for i in sugg_embed['pooled_output']]\n",
        "  reader = pd.DataFrame(reader)\n",
        "  suggested = pd.DataFrame(suggested)\n",
        "  return reader, suggested\n",
        "\n",
        "gr, nyt = addtodf(gr, nyt)"
      ]
    },
    {
      "cell_type": "markdown",
      "metadata": {
        "id": "rAz2Z1wvBndX"
      },
      "source": [
        "##### **Time to Experiment!**\n",
        "We are going to see if individual word embeddings (sequence) give different predictions than sentence embeddings (pooled)\n",
        "\n",
        "independent variables: \\\n",
        "open ai embeddings \\\n",
        "sequence output (bert) \\\n",
        "pooled output (bert) \\"
      ]
    },
    {
      "cell_type": "code",
      "execution_count": 8,
      "metadata": {
        "id": "wUoWRDGCPxEu"
      },
      "outputs": [],
      "source": [
        "#from sklearn.model_selection import train_test_split\n",
        "from sklearn.ensemble import RandomForestClassifier\n",
        "from sklearn.metrics import accuracy_score, classification_report\n",
        "from statistics import mean"
      ]
    },
    {
      "cell_type": "code",
      "execution_count": 9,
      "metadata": {
        "id": "FQDTxN4SP26X"
      },
      "outputs": [],
      "source": [
        "model = RandomForestClassifier(n_estimators=100, random_state=42)"
      ]
    },
    {
      "cell_type": "code",
      "source": [
        "def modprep(reader, suggested): ##essentially makes the trainig data\n",
        "  grx = np.array([i for i in reader['bert_pooled']])\n",
        "  gry = np.array([])\n",
        "  if (mean(reader['enjoyed']) == 1 or mean(reader['enjoyed']) == 0):\n",
        "    gry = np.array(np.random.randint(2, size = (82,1)))\n",
        "  else:\n",
        "    gry = np.array([i for i in reader['enjoyed']])\n",
        "\n",
        "  nytx = np.array([i for i in suggested['bert_pooled']])\n",
        "\n",
        "  return (grx, gry, nytx)"
      ],
      "metadata": {
        "id": "obSYxHNc_LjN"
      },
      "execution_count": 10,
      "outputs": []
    },
    {
      "cell_type": "code",
      "execution_count": 11,
      "metadata": {
        "colab": {
          "base_uri": "https://localhost:8080/",
          "height": 128
        },
        "id": "D1lTiE7tIHpe",
        "outputId": "f6a17c17-00c5-4c0a-ba69-68176d61b89e"
      },
      "outputs": [
        {
          "output_type": "stream",
          "name": "stderr",
          "text": [
            "<ipython-input-11-a7497fda7b40>:2: DataConversionWarning: A column-vector y was passed when a 1d array was expected. Please change the shape of y to (n_samples,), for example using ravel().\n",
            "  model.fit(x_train, y_train)\n"
          ]
        },
        {
          "output_type": "execute_result",
          "data": {
            "text/plain": [
              "RandomForestClassifier(random_state=42)"
            ],
            "text/html": [
              "<style>#sk-container-id-1 {color: black;background-color: white;}#sk-container-id-1 pre{padding: 0;}#sk-container-id-1 div.sk-toggleable {background-color: white;}#sk-container-id-1 label.sk-toggleable__label {cursor: pointer;display: block;width: 100%;margin-bottom: 0;padding: 0.3em;box-sizing: border-box;text-align: center;}#sk-container-id-1 label.sk-toggleable__label-arrow:before {content: \"▸\";float: left;margin-right: 0.25em;color: #696969;}#sk-container-id-1 label.sk-toggleable__label-arrow:hover:before {color: black;}#sk-container-id-1 div.sk-estimator:hover label.sk-toggleable__label-arrow:before {color: black;}#sk-container-id-1 div.sk-toggleable__content {max-height: 0;max-width: 0;overflow: hidden;text-align: left;background-color: #f0f8ff;}#sk-container-id-1 div.sk-toggleable__content pre {margin: 0.2em;color: black;border-radius: 0.25em;background-color: #f0f8ff;}#sk-container-id-1 input.sk-toggleable__control:checked~div.sk-toggleable__content {max-height: 200px;max-width: 100%;overflow: auto;}#sk-container-id-1 input.sk-toggleable__control:checked~label.sk-toggleable__label-arrow:before {content: \"▾\";}#sk-container-id-1 div.sk-estimator input.sk-toggleable__control:checked~label.sk-toggleable__label {background-color: #d4ebff;}#sk-container-id-1 div.sk-label input.sk-toggleable__control:checked~label.sk-toggleable__label {background-color: #d4ebff;}#sk-container-id-1 input.sk-hidden--visually {border: 0;clip: rect(1px 1px 1px 1px);clip: rect(1px, 1px, 1px, 1px);height: 1px;margin: -1px;overflow: hidden;padding: 0;position: absolute;width: 1px;}#sk-container-id-1 div.sk-estimator {font-family: monospace;background-color: #f0f8ff;border: 1px dotted black;border-radius: 0.25em;box-sizing: border-box;margin-bottom: 0.5em;}#sk-container-id-1 div.sk-estimator:hover {background-color: #d4ebff;}#sk-container-id-1 div.sk-parallel-item::after {content: \"\";width: 100%;border-bottom: 1px solid gray;flex-grow: 1;}#sk-container-id-1 div.sk-label:hover label.sk-toggleable__label {background-color: #d4ebff;}#sk-container-id-1 div.sk-serial::before {content: \"\";position: absolute;border-left: 1px solid gray;box-sizing: border-box;top: 0;bottom: 0;left: 50%;z-index: 0;}#sk-container-id-1 div.sk-serial {display: flex;flex-direction: column;align-items: center;background-color: white;padding-right: 0.2em;padding-left: 0.2em;position: relative;}#sk-container-id-1 div.sk-item {position: relative;z-index: 1;}#sk-container-id-1 div.sk-parallel {display: flex;align-items: stretch;justify-content: center;background-color: white;position: relative;}#sk-container-id-1 div.sk-item::before, #sk-container-id-1 div.sk-parallel-item::before {content: \"\";position: absolute;border-left: 1px solid gray;box-sizing: border-box;top: 0;bottom: 0;left: 50%;z-index: -1;}#sk-container-id-1 div.sk-parallel-item {display: flex;flex-direction: column;z-index: 1;position: relative;background-color: white;}#sk-container-id-1 div.sk-parallel-item:first-child::after {align-self: flex-end;width: 50%;}#sk-container-id-1 div.sk-parallel-item:last-child::after {align-self: flex-start;width: 50%;}#sk-container-id-1 div.sk-parallel-item:only-child::after {width: 0;}#sk-container-id-1 div.sk-dashed-wrapped {border: 1px dashed gray;margin: 0 0.4em 0.5em 0.4em;box-sizing: border-box;padding-bottom: 0.4em;background-color: white;}#sk-container-id-1 div.sk-label label {font-family: monospace;font-weight: bold;display: inline-block;line-height: 1.2em;}#sk-container-id-1 div.sk-label-container {text-align: center;}#sk-container-id-1 div.sk-container {/* jupyter's `normalize.less` sets `[hidden] { display: none; }` but bootstrap.min.css set `[hidden] { display: none !important; }` so we also need the `!important` here to be able to override the default hidden behavior on the sphinx rendered scikit-learn.org. See: https://github.com/scikit-learn/scikit-learn/issues/21755 */display: inline-block !important;position: relative;}#sk-container-id-1 div.sk-text-repr-fallback {display: none;}</style><div id=\"sk-container-id-1\" class=\"sk-top-container\"><div class=\"sk-text-repr-fallback\"><pre>RandomForestClassifier(random_state=42)</pre><b>In a Jupyter environment, please rerun this cell to show the HTML representation or trust the notebook. <br />On GitHub, the HTML representation is unable to render, please try loading this page with nbviewer.org.</b></div><div class=\"sk-container\" hidden><div class=\"sk-item\"><div class=\"sk-estimator sk-toggleable\"><input class=\"sk-toggleable__control sk-hidden--visually\" id=\"sk-estimator-id-1\" type=\"checkbox\" checked><label for=\"sk-estimator-id-1\" class=\"sk-toggleable__label sk-toggleable__label-arrow\">RandomForestClassifier</label><div class=\"sk-toggleable__content\"><pre>RandomForestClassifier(random_state=42)</pre></div></div></div></div></div>"
            ]
          },
          "metadata": {},
          "execution_count": 11
        }
      ],
      "source": [
        "x_train, y_train, x_test = modprep(gr, nyt)\n",
        "model.fit(x_train, y_train)"
      ]
    },
    {
      "cell_type": "code",
      "execution_count": 18,
      "metadata": {
        "id": "9DuC_5U2oBsR"
      },
      "outputs": [],
      "source": [
        "nyt['predictions'] = model.predict(x_test)\n",
        "def asklib(suggested):\n",
        "  full_recs = suggested[suggested['predictions'] == 1]\n",
        "  titles = full_recs['titleleft']\n",
        "  return titles\n",
        "\n"
      ]
    },
    {
      "cell_type": "code",
      "source": [
        "asklib(nyt)"
      ],
      "metadata": {
        "colab": {
          "base_uri": "https://localhost:8080/"
        },
        "id": "L8vEKRZ2SS9y",
        "outputId": "f52ff8e1-a14d-4836-9fd5-b0bbe2adf0b9"
      },
      "execution_count": 19,
      "outputs": [
        {
          "output_type": "execute_result",
          "data": {
            "text/plain": [
              "0             WITCH AND WIZARD\n",
              "4                       FALLEN\n",
              "11                  CROSS FIRE\n",
              "12      UNDER THE DOME, PART 1\n",
              "14           U IS FOR UNDERTOW\n",
              "                 ...          \n",
              "1057          THE HUNGER GAMES\n",
              "1061                    FALLEN\n",
              "1065          THE TIGER'S WIFE\n",
              "1070       THE LEGO IDEAS BOOK\n",
              "1071                NIGHT ROAD\n",
              "Name: titleleft, Length: 338, dtype: object"
            ]
          },
          "metadata": {},
          "execution_count": 19
        }
      ]
    },
    {
      "cell_type": "markdown",
      "metadata": {
        "id": "O2zKib0Fxgnw"
      },
      "source": []
    }
  ],
  "metadata": {
    "colab": {
      "provenance": [],
      "authorship_tag": "ABX9TyNlnNuTPj1WVy5bSrtT/5ub",
      "include_colab_link": true
    },
    "kernelspec": {
      "display_name": "Python 3",
      "name": "python3"
    },
    "language_info": {
      "name": "python"
    }
  },
  "nbformat": 4,
  "nbformat_minor": 0
}
